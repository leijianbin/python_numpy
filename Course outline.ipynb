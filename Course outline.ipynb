{
 "cells": [
  {
   "cell_type": "markdown",
   "metadata": {},
   "source": [
    "# Python Course - Core Libraries & Statistics "
   ]
  },
  {
   "cell_type": "markdown",
   "metadata": {},
   "source": [
    "# Table of content\n",
    "1. [Top 20 Python libraries data science in 2018](#top20)\n",
    "2. [What is high-level mathematical functions?](#high-order)\n",
    "3. [What is Statistics?](#statics)\n",
    "4. [How to Install jupyter notebook?](#jupyter)\n",
    "5. [Intro to Markdown](#markdown)\n",
    "6. [Numpy Tutorial](#numpy)"
   ]
  },
  {
   "cell_type": "markdown",
   "metadata": {
    "scrolled": true
   },
   "source": [
    "# 1. Top 20 Python libraries for data science in 2018<a name=\"top20\"></a>\n",
    "\n",
    "[Let's Start from here](https://medium.com/activewizards-machine-learning-company/top-20-python-libraries-for-data-science-in-2018-2ae7d1db8049)"
   ]
  },
  {
   "cell_type": "markdown",
   "metadata": {},
   "source": [
    "# 2. What is high-level mathematical functions? <a name=\"high-order\"></a>\n",
    "\n",
    "In mathematics and computer science, a higher-order function (also functional, functional form or functor)is a function that does at least one of the following:\n",
    "\n",
    "* takes one or more functions as arguments (i.e. procedural parameters),\n",
    "* returns a function as its result.\n",
    "\n",
    "All other functions are first-order functions. In mathematics higher-order functions are also termed operators or functionals. The differential operator in calculus is a common example, since it maps a function to its derivative, also a function. Higher-order functions should not be confused with other uses of the word \"functor\" throughout mathematics, see Functor (disambiguation).\n",
    "\n",
    "In the untyped lambda calculus, all functions are higher-order; in a typed lambda calculus, from which most functional programming languages are derived, higher-order functions that take one function as argument are values with types of the form ![form](https://wikimedia.org/api/rest_v1/media/math/render/svg/21f4ec10929e414aedfee50d2c07c91e9cb35668 \"Function Form\")\n",
    "\n",
    "Learn More, [click here](https://en.wikipedia.org/wiki/Higher-order_function#Python)"
   ]
  },
  {
   "cell_type": "code",
   "execution_count": 6,
   "metadata": {},
   "outputs": [
    {
     "data": {
      "text/plain": [
       "13"
      ]
     },
     "execution_count": 6,
     "metadata": {},
     "output_type": "execute_result"
    }
   ],
   "source": [
    "# python example of high-level mathematical functions: lambda \n",
    "def twice(f):\n",
    "    return lambda x: f(f(x))\n",
    "\n",
    "def plusthree(x):\n",
    "    return x + 3\n",
    "\n",
    "g = twice(plusthree)\n",
    "    \n",
    "g(7)"
   ]
  },
  {
   "cell_type": "markdown",
   "metadata": {},
   "source": [
    "A lambda function in python is a small <b>anonymous function</b>. A lambda function can take any number of arguments, but can only have one expression.\n",
    "\n",
    "More detail, [check here](https://www.w3schools.com/python/python_lambda.asp)"
   ]
  },
  {
   "cell_type": "markdown",
   "metadata": {},
   "source": [
    "# 3. What is Statistics? <a name=\"statics\"></a>\n",
    "\n",
    "Statistics is a branch of mathematics dealing with data collection, organization, analysis, interpretation and presentation. \n",
    "\n",
    "Two main statistical methods are used in data analysis: \n",
    "* **descriptive statistics**, which summarize data from a sample using indexes such as the mean or standard deviation \n",
    "* **inferential statistics**, which draw conclusions from data that are subject to random variation (e.g., observational errors, sampling variation). \n",
    "\n",
    "Descriptive statistics are most often concerned with two sets of properties of a distribution (sample or population): central tendency (or location) seeks to characterize the distribution's central or typical value, while dispersion (or variability) characterizes the extent to which members of the distribution depart from its center and each other. Inferences on mathematical statistics are made under the framework of probability theory, which deals with the analysis of random phenomena.\n",
    "\n",
    "### 3.1 零基础统计学入门必看 | R 语言\n",
    "https://zhuanlan.zhihu.com/p/22062956\n",
    "\n",
    "### 3.2 R or Python for data analysis? \n",
    "https://www.datacamp.com/community/tutorials/r-or-python-for-data-analysis"
   ]
  },
  {
   "cell_type": "markdown",
   "metadata": {},
   "source": [
    "# 4. How to Install jupyter notebook?<a name=\"jupyter\"></a>\n",
    "\n",
    "The Jupyter Notebook is an open-source web application that allows you to create and share documents that contain live code, equations, visualizations and narrative text. Uses include: data cleaning and transformation, numerical simulation, statistical modeling, data visualization, machine learning, and much more.\n",
    "\n",
    "### 4-1. how to install\n",
    "Check the detail installation [here](http://jupyter.org/install)"
   ]
  },
  {
   "cell_type": "markdown",
   "metadata": {},
   "source": [
    "# 5. Intro to Markdown<a name=\"markdown\"></a>\n",
    "\n",
    "Markdown is a lightweight markup language with plain text formatting syntax. Its design allows it to be converted to many output formats, but the original tool by the same name only supports HTML. Markdown is often used to format readme files, for writing messages in online discussion forums, and to create rich text using a plain text editor. Since the initial description of Markdown contained ambiguities and unanswered questions, the implementations that appeared over the years have subtle differences and many come with syntax extensions.\n",
    "\n",
    "[Markdown Cheatsheet](https://github.com/adam-p/markdown-here/wiki/Markdown-Cheatsheet)"
   ]
  },
  {
   "cell_type": "markdown",
   "metadata": {},
   "source": [
    "# 6. Numpy Tutorial<a name=\"numpy\"></a>\n"
   ]
  },
  {
   "cell_type": "markdown",
   "metadata": {},
   "source": [
    "![Lazy](https://i.ytimg.com/vi/_MF62Ves7z8/maxresdefault.jpg \"I am Lazy\")\n",
    "\n",
    "This guy is lazy, so please check the original blog: \n",
    "http://cs231n.github.io/python-numpy-tutorial/"
   ]
  },
  {
   "cell_type": "code",
   "execution_count": 5,
   "metadata": {},
   "outputs": [],
   "source": [
    "# Let do try it together here  \n",
    "\n",
    "\n",
    "\n",
    "\n",
    "\n",
    "\n",
    "\n",
    "\n",
    "\n",
    "\n",
    "\n",
    "\n",
    "\n",
    "\n",
    "\n",
    "\n",
    "\n",
    "\n",
    "\n",
    "\n"
   ]
  },
  {
   "cell_type": "markdown",
   "metadata": {},
   "source": [
    "# Homework \n",
    "\n",
    "* 1. Solve at least five challenges about the numpy from the [hackerrank](https://www.hackerrank.com/domains/python?filters%5Bsubdomains%5D%5B%5D=numpy). Please submit the screenshot.  \n",
    "\n",
    "* 2. Install jupyter notebook in your local machine, and Copy content, code and style of one of the challege you solve above to your jupyter notebook. Please submit the screenshot. \n"
   ]
  }
 ],
 "metadata": {
  "kernelspec": {
   "display_name": "Python 3",
   "language": "python",
   "name": "python3"
  },
  "language_info": {
   "codemirror_mode": {
    "name": "ipython",
    "version": 3
   },
   "file_extension": ".py",
   "mimetype": "text/x-python",
   "name": "python",
   "nbconvert_exporter": "python",
   "pygments_lexer": "ipython3",
   "version": "3.6.5"
  }
 },
 "nbformat": 4,
 "nbformat_minor": 2
}
